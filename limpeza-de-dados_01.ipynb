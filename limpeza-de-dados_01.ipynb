{
 "cells": [
  {
   "cell_type": "markdown",
   "metadata": {},
   "source": [
    "#### 1. Importação das Bibliotecas:"
   ]
  },
  {
   "cell_type": "code",
   "execution_count": 6,
   "metadata": {},
   "outputs": [],
   "source": [
    "import pandas as pd\n",
    "import numpy as np"
   ]
  },
  {
   "cell_type": "markdown",
   "metadata": {},
   "source": [
    "#### 2. Carregando seus dados:\n",
    "\n",
    "Carregue seus dados em um DataFrame do pandas usando `pd.read_excel()` ou apropriado para o seu formato de dados."
   ]
  },
  {
   "cell_type": "code",
   "execution_count": 7,
   "metadata": {},
   "outputs": [],
   "source": [
    "df = pd.read_excel('dados/dados.xlsx')"
   ]
  },
  {
   "cell_type": "markdown",
   "metadata": {},
   "source": [
    "#### 3. Verificação dos Dados:\n",
    "\n",
    "Comece verificando seu DataFrame para entender sua estrutura:"
   ]
  },
  {
   "cell_type": "code",
   "execution_count": 8,
   "metadata": {},
   "outputs": [
    {
     "name": "stdout",
     "output_type": "stream",
     "text": [
      "     fname     lname  gender  age  exercise  hours  grade  \\\n",
      "0   Marcia      Pugh  female   17         3     10   82.4   \n",
      "1   Kadeem  Morrison    male   18         4      4   78.2   \n",
      "2     Nash    Powell    male   18         5      9   79.3   \n",
      "3  Noelani    Wagner  female   14         2      7   83.2   \n",
      "4  Noelani    Cherry  female   18         4     15   87.4   \n",
      "\n",
      "                                      address  \n",
      "0        7379 Highland Rd. , Dublin, GA 31021  \n",
      "1          8 Bayport St. , Honolulu, HI 96815  \n",
      "2           Encino, CA 91316, 3 Lilac Street   \n",
      "3  Riverview, FL 33569, 9998 North Smith Dr.   \n",
      "4   97 SE. Ocean Street , Bethlehem, PA 18015  \n",
      "<class 'pandas.core.frame.DataFrame'>\n",
      "RangeIndex: 2000 entries, 0 to 1999\n",
      "Data columns (total 8 columns):\n",
      " #   Column    Non-Null Count  Dtype  \n",
      "---  ------    --------------  -----  \n",
      " 0   fname     2000 non-null   object \n",
      " 1   lname     2000 non-null   object \n",
      " 2   gender    2000 non-null   object \n",
      " 3   age       2000 non-null   int64  \n",
      " 4   exercise  2000 non-null   int64  \n",
      " 5   hours     2000 non-null   int64  \n",
      " 6   grade     2000 non-null   float64\n",
      " 7   address   2000 non-null   object \n",
      "dtypes: float64(1), int64(3), object(4)\n",
      "memory usage: 125.1+ KB\n",
      "None\n",
      "               age     exercise        hours        grade\n",
      "count  2000.000000  2000.000000  2000.000000  2000.000000\n",
      "mean     16.578500     3.000500    10.988500    82.556050\n",
      "std       1.696254     1.423205     4.063942     9.747593\n",
      "min      14.000000     0.000000     0.000000    32.000000\n",
      "25%      15.000000     2.000000     8.000000    75.575000\n",
      "50%      17.000000     3.000000    11.000000    82.700000\n",
      "75%      18.000000     4.000000    14.000000    89.700000\n",
      "max      19.000000     5.000000    20.000000   100.000000\n",
      "['female' 'male']\n"
     ]
    }
   ],
   "source": [
    "# Visualize as primeiras linhas do DataFrame\n",
    "print(df.head())\n",
    "\n",
    "# Obtenha informações gerais sobre as colunas\n",
    "print(df.info())\n",
    "\n",
    "# Resumo estatístico das variáveis numéricas\n",
    "print(df.describe())\n",
    "\n",
    "# Verifique valores únicos em colunas categóricas\n",
    "print(df['gender'].unique())"
   ]
  },
  {
   "cell_type": "markdown",
   "metadata": {},
   "source": [
    "#### 4. Tratando Valores Ausentes:\n",
    "\n",
    "Lide com valores ausentes usando fillna() ou dropna() conforme necessário:"
   ]
  },
  {
   "cell_type": "code",
   "execution_count": 9,
   "metadata": {},
   "outputs": [],
   "source": [
    "# Preencha valores ausentes em colunas numéricas\n",
    "df['grade'].fillna(df['grade'].mean(), inplace=True)\n",
    "\n",
    "# Preencha valores ausentes em colunas categóricas\n",
    "df['gender'].fillna('s/n', inplace=True)\n",
    "\n",
    "# Remova linhas com valores ausentes\n",
    "df.dropna(subset=['age'], inplace=True)"
   ]
  },
  {
   "cell_type": "markdown",
   "metadata": {},
   "source": [
    "#### 5. Lidando com Duplicatas:\n",
    "\n",
    "Identifique e remova duplicatas, se aplicável:"
   ]
  },
  {
   "cell_type": "code",
   "execution_count": 10,
   "metadata": {},
   "outputs": [],
   "source": [
    "# Identifique duplicatas\n",
    "df.duplicated().sum()\n",
    "\n",
    "# Remova duplicatas\n",
    "df.drop_duplicates(inplace=True)\n"
   ]
  },
  {
   "cell_type": "markdown",
   "metadata": {},
   "source": [
    "#### 6. Normalização de Dados:\n",
    " \n",
    "Normalização pode ser necessária para variáveis numéricas:"
   ]
  },
  {
   "cell_type": "code",
   "execution_count": 11,
   "metadata": {},
   "outputs": [],
   "source": [
    "from sklearn.preprocessing import MinMaxScaler\n",
    "\n",
    "scaler = MinMaxScaler()\n",
    "df['hours_normalizada'] = scaler.fit_transform(df[['hours']])"
   ]
  },
  {
   "cell_type": "markdown",
   "metadata": {},
   "source": [
    "#### 7. Codificação de Variáveis Categóricas:\n",
    "\n",
    "Codifique variáveis categóricas em números usando técnicas como one-hot encoding:"
   ]
  },
  {
   "cell_type": "code",
   "execution_count": null,
   "metadata": {},
   "outputs": [],
   "source": [
    "df = pd.get_dummies(df, columns=['gender'], drop_first=True)"
   ]
  },
  {
   "cell_type": "markdown",
   "metadata": {},
   "source": [
    "#### 8. Detecção de Outliers:\n",
    "\n",
    "Identifique e trate outliers se eles afetarem sua análise:"
   ]
  },
  {
   "cell_type": "code",
   "execution_count": null,
   "metadata": {},
   "outputs": [],
   "source": [
    "from scipy import stats\n",
    "\n",
    "z_scores = np.abs(stats.zscore(df['age']))\n",
    "df_no_outliers = df[(z_scores < 3)]  # Remove valores com z-score acima de 3"
   ]
  },
  {
   "cell_type": "markdown",
   "metadata": {},
   "source": [
    "#### 9. Reindexação e Redefinição de Índices:\n",
    "\n",
    "Reindexe seu DataFrame, se necessário:"
   ]
  },
  {
   "cell_type": "code",
   "execution_count": null,
   "metadata": {},
   "outputs": [],
   "source": [
    "df.reset_index(drop=True, inplace=True)  # Redefina os índices"
   ]
  },
  {
   "cell_type": "markdown",
   "metadata": {},
   "source": [
    "10. Salve seus Dados Limpos:\n",
    "Salve seu DataFrame limpo de volta em um arquivo se desejar:"
   ]
  },
  {
   "cell_type": "code",
   "execution_count": null,
   "metadata": {},
   "outputs": [],
   "source": [
    "df.to_csv('dados/dados_limpos.csv', index=False)\n"
   ]
  }
 ],
 "metadata": {
  "kernelspec": {
   "display_name": "Python 3",
   "language": "python",
   "name": "python3"
  },
  "language_info": {
   "codemirror_mode": {
    "name": "ipython",
    "version": 3
   },
   "file_extension": ".py",
   "mimetype": "text/x-python",
   "name": "python",
   "nbconvert_exporter": "python",
   "pygments_lexer": "ipython3",
   "version": "3.10.5"
  }
 },
 "nbformat": 4,
 "nbformat_minor": 2
}
